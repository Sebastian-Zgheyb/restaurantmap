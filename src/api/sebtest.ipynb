{
 "cells": [
  {
   "cell_type": "code",
   "execution_count": null,
   "metadata": {},
   "outputs": [
    {
     "name": "stdout",
     "output_type": "stream",
     "text": [
      "200\n",
      "{'reviews': [{'name': 'places/ChIJgetcRmGAhYARjDkShaWuWMs/reviews/ChdDSUhNMG9nS0VJQ0FnSUN2MjRpeGpRRRAB', 'relativePublishTimeDescription': '2 months ago', 'rating': 4, 'text': {'text': \"Falafel Bliss and Shawarma Satisfaction!\\n\\nI participated in a multi-month professional training program in San Francisco's Financial District a few years ago. Weekend lunch options were limited, especially for those of us who preferred something beyond typical fast food. One day, someone recommended Oasis Grill during a lunchtime debate about where to grab a bite. It quickly became a favorite among us for the rest of the program.\\n\\nMy office was nearby, so Oasis Grill became a go-to lunch spot for the following few years during my workweek. I particularly enjoyed the falafel and shawarma wraps. The shawarma offered a choice of beef, lamb, or chicken.\\n\\nMy regular visits were abruptly interrupted by the pandemic. Then, last week, a craving for a falafel wrap led me back to Oasis Grill. Though the staff had changed, the place looked mostly unchanged. The staff quickly filled orders, and most importantly, the falafel wrap was just as tasty as I remembered! The wraps come in two sizes: regular and deluxe. The deluxe has a few extra items for a couple of dollars more, but the regular is just as satisfying.\\n\\nThe store is very small, and there is no place to sit, but if you are looking for a takeout option, it is a very good option.\", 'languageCode': 'en'}, 'originalText': {'text': \"Falafel Bliss and Shawarma Satisfaction!\\n\\nI participated in a multi-month professional training program in San Francisco's Financial District a few years ago. Weekend lunch options were limited, especially for those of us who preferred something beyond typical fast food. One day, someone recommended Oasis Grill during a lunchtime debate about where to grab a bite. It quickly became a favorite among us for the rest of the program.\\n\\nMy office was nearby, so Oasis Grill became a go-to lunch spot for the following few years during my workweek. I particularly enjoyed the falafel and shawarma wraps. The shawarma offered a choice of beef, lamb, or chicken.\\n\\nMy regular visits were abruptly interrupted by the pandemic. Then, last week, a craving for a falafel wrap led me back to Oasis Grill. Though the staff had changed, the place looked mostly unchanged. The staff quickly filled orders, and most importantly, the falafel wrap was just as tasty as I remembered! The wraps come in two sizes: regular and deluxe. The deluxe has a few extra items for a couple of dollars more, but the regular is just as satisfying.\\n\\nThe store is very small, and there is no place to sit, but if you are looking for a takeout option, it is a very good option.\", 'languageCode': 'en'}, 'authorAttribution': {'displayName': 'Afshin Afshar-Ghasemlou', 'uri': 'https://www.google.com/maps/contrib/105519994438758559743/reviews', 'photoUri': 'https://lh3.googleusercontent.com/a-/ALV-UjVRLTQjqzlStPsXhw7MEId0pZ8zDf0PZS1kx9uK0P0RmOX3ibU=s128-c0x00000000-cc-rp-mo-ba6'}, 'publishTime': '2024-12-15T01:00:11.486446Z', 'flagContentUri': 'https://www.google.com/local/review/rap/report?postId=ChdDSUhNMG9nS0VJQ0FnSUN2MjRpeGpRRRAB&d=17924085&t=1', 'googleMapsUri': 'https://www.google.com/maps/reviews/data=!4m6!14m5!1m4!2m3!1sChdDSUhNMG9nS0VJQ0FnSUN2MjRpeGpRRRAB!2m1!1s0x80858061465ceb81:0xcb58aea58512398c'}, {'name': 'places/ChIJgetcRmGAhYARjDkShaWuWMs/reviews/ChZDSUhNMG9nS0VJQ0FnSURyNTZHMldREAE', 'relativePublishTimeDescription': '7 months ago', 'rating': 5, 'text': {'text': 'Quick service, cook to order food.  Tastes amazing and well priced for the amount you get.\\n\\nOne other thing that impressed me the most was, as I walking out the door with my order, a person in need was asking the owner for some food, indicating he was hungry.  Without hesitation, the owner turned around went in the restaurant, and started getting the person in need some food before I could react/respond.  Awesome to see that!  I will support this business as much as I can. By the time I got back, the person had food and was eating in front of the store.  Very cool experience overall!', 'languageCode': 'en'}, 'originalText': {'text': 'Quick service, cook to order food.  Tastes amazing and well priced for the amount you get.\\n\\nOne other thing that impressed me the most was, as I walking out the door with my order, a person in need was asking the owner for some food, indicating he was hungry.  Without hesitation, the owner turned around went in the restaurant, and started getting the person in need some food before I could react/respond.  Awesome to see that!  I will support this business as much as I can. By the time I got back, the person had food and was eating in front of the store.  Very cool experience overall!', 'languageCode': 'en'}, 'authorAttribution': {'displayName': 'Dipesh Patel (Peshy)', 'uri': 'https://www.google.com/maps/contrib/111053284467259818449/reviews', 'photoUri': 'https://lh3.googleusercontent.com/a-/ALV-UjX92Gt-tWhd7uzMtkHthPIdBlKq56c-3-VUCzXOctJ6J1-0UiA=s128-c0x00000000-cc-rp-mo-ba4'}, 'publishTime': '2024-07-20T23:39:54.906839Z', 'flagContentUri': 'https://www.google.com/local/review/rap/report?postId=ChZDSUhNMG9nS0VJQ0FnSURyNTZHMldREAE&d=17924085&t=1', 'googleMapsUri': 'https://www.google.com/maps/reviews/data=!4m6!14m5!1m4!2m3!1sChZDSUhNMG9nS0VJQ0FnSURyNTZHMldREAE!2m1!1s0x80858061465ceb81:0xcb58aea58512398c'}, {'name': 'places/ChIJgetcRmGAhYARjDkShaWuWMs/reviews/ChdDSUhNMG9nS0VJQ0FnSURQMTlUWG9nRRAB', 'relativePublishTimeDescription': '3 months ago', 'rating': 5, 'text': {'text': 'Had the beef shawarma. Tasted very good and the fries were simple and good! It did seem a bit expensive, I paid 30 bucks for myself for a place like this it seemed expensive. But downtown SF, i understand. The cashier and the cook were very nice! Would recommend!', 'languageCode': 'en'}, 'originalText': {'text': 'Had the beef shawarma. Tasted very good and the fries were simple and good! It did seem a bit expensive, I paid 30 bucks for myself for a place like this it seemed expensive. But downtown SF, i understand. The cashier and the cook were very nice! Would recommend!', 'languageCode': 'en'}, 'authorAttribution': {'displayName': 'Ernesto Martinez', 'uri': 'https://www.google.com/maps/contrib/115313105395303124168/reviews', 'photoUri': 'https://lh3.googleusercontent.com/a/ACg8ocLQB-pXD2BObHJ-UpWbjZ3UFE0niarwDrrIL5tTsUUMyrab5w=s128-c0x00000000-cc-rp-mo-ba3'}, 'publishTime': '2024-12-06T07:47:35.230522Z', 'flagContentUri': 'https://www.google.com/local/review/rap/report?postId=ChdDSUhNMG9nS0VJQ0FnSURQMTlUWG9nRRAB&d=17924085&t=1', 'googleMapsUri': 'https://www.google.com/maps/reviews/data=!4m6!14m5!1m4!2m3!1sChdDSUhNMG9nS0VJQ0FnSURQMTlUWG9nRRAB!2m1!1s0x80858061465ceb81:0xcb58aea58512398c'}, {'name': 'places/ChIJgetcRmGAhYARjDkShaWuWMs/reviews/ChdDSUhNMG9nS0VJQ0FnSURkcE55M3B3RRAB', 'relativePublishTimeDescription': 'a year ago', 'rating': 5, 'text': {'text': \"Going back into the office three days a week is tough. Well, at least I can eat at my old favorite restaurants around Fidi again. Oasis Grill is still around. I can't believe it. Most of Drumm st. feel abandoned. We got the beef shawarma wrap $17 and a vegan deluxe bowl $14. It didn't taste as good as before though. Still very good. My shawarma wrap had plenty of meat and had a lot of flavor. Good job everyone at Oasis Grill.\", 'languageCode': 'en'}, 'originalText': {'text': \"Going back into the office three days a week is tough. Well, at least I can eat at my old favorite restaurants around Fidi again. Oasis Grill is still around. I can't believe it. Most of Drumm st. feel abandoned. We got the beef shawarma wrap $17 and a vegan deluxe bowl $14. It didn't taste as good as before though. Still very good. My shawarma wrap had plenty of meat and had a lot of flavor. Good job everyone at Oasis Grill.\", 'languageCode': 'en'}, 'authorAttribution': {'displayName': 'Jeff Ho', 'uri': 'https://www.google.com/maps/contrib/108649344011016756337/reviews', 'photoUri': 'https://lh3.googleusercontent.com/a-/ALV-UjVZ4spvgDf8R7lpN93Q_f0i4uWSBgBRdWuzHm6weDtdNixieHTn=s128-c0x00000000-cc-rp-mo-ba6'}, 'publishTime': '2024-02-21T02:55:31.265104Z', 'flagContentUri': 'https://www.google.com/local/review/rap/report?postId=ChdDSUhNMG9nS0VJQ0FnSURkcE55M3B3RRAB&d=17924085&t=1', 'googleMapsUri': 'https://www.google.com/maps/reviews/data=!4m6!14m5!1m4!2m3!1sChdDSUhNMG9nS0VJQ0FnSURkcE55M3B3RRAB!2m1!1s0x80858061465ceb81:0xcb58aea58512398c'}, {'name': 'places/ChIJgetcRmGAhYARjDkShaWuWMs/reviews/ChZDSUhNMG9nS0VJQ0FnSURBbEpmQ0NBEAE', 'relativePublishTimeDescription': '6 years ago', 'rating': 5, 'text': {'text': 'Great food and high-quality Shawarma and sish tawouk. Services pretty quick but the store itself is small. Friendly staff. Hot sauce is a must, some of the best in the Bay Area! Delicious and will definitely come again.', 'languageCode': 'en'}, 'originalText': {'text': 'Great food and high-quality Shawarma and sish tawouk. Services pretty quick but the store itself is small. Friendly staff. Hot sauce is a must, some of the best in the Bay Area! Delicious and will definitely come again.', 'languageCode': 'en'}, 'authorAttribution': {'displayName': 'Tareq Ismail', 'uri': 'https://www.google.com/maps/contrib/114676840262777460305/reviews', 'photoUri': 'https://lh3.googleusercontent.com/a-/ALV-UjVyM9r-8dsuuojIQe2xhUpy_RbiMSZfGmLOX4tVSAR_RbI9VOsS=s128-c0x00000000-cc-rp-mo-ba4'}, 'publishTime': '2018-06-18T03:27:58.930Z', 'flagContentUri': 'https://www.google.com/local/review/rap/report?postId=ChZDSUhNMG9nS0VJQ0FnSURBbEpmQ0NBEAE&d=17924085&t=1', 'googleMapsUri': 'https://www.google.com/maps/reviews/data=!4m6!14m5!1m4!2m3!1sChZDSUhNMG9nS0VJQ0FnSURBbEpmQ0NBEAE!2m1!1s0x80858061465ceb81:0xcb58aea58512398c'}]}\n"
     ]
    }
   ],
   "source": [
    "import requests\n",
    "from dotenv import load_dotenv\n",
    "import os\n",
    "\n",
    "load_dotenv()\n",
    "API_KEY = os.getenv(\"GOOGLE_API_KEY\")\n",
    "url = \"https://places.googleapis.com/v1/places/ChIJgetcRmGAhYARjDkShaWuWMs\"  # Replace with correct Place ID\n",
    "\n",
    "headers = {\n",
    "    \"Content-Type\": \"application/json\",\n",
    "    \"X-Goog-Api-Key\": API_KEY,\n",
    "    \"X-Goog-FieldMask\": \"reviews\"\n",
    "}\n",
    "\n",
    "response = requests.get(url, headers=headers)\n",
    "print(response.status_code)\n",
    "print(response.json())\n"
   ]
  },
  {
   "cell_type": "code",
   "execution_count": null,
   "metadata": {},
   "outputs": [],
   "source": []
  },
  {
   "cell_type": "code",
   "execution_count": null,
   "metadata": {},
   "outputs": [],
   "source": []
  }
 ],
 "metadata": {
  "kernelspec": {
   "display_name": "venv",
   "language": "python",
   "name": "python3"
  },
  "language_info": {
   "codemirror_mode": {
    "name": "ipython",
    "version": 3
   },
   "file_extension": ".py",
   "mimetype": "text/x-python",
   "name": "python",
   "nbconvert_exporter": "python",
   "pygments_lexer": "ipython3",
   "version": "3.13.1"
  }
 },
 "nbformat": 4,
 "nbformat_minor": 2
}
